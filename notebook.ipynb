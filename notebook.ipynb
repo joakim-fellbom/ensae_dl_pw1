{
 "cells": [
  {
   "cell_type": "markdown",
   "id": "17ec8d6a-4218-49b9-a549-0977cec82967",
   "metadata": {
    "id": "MVpsYfWg3z0B"
   },
   "source": [
    "# PW1 - Handwritten character recognition\n"
   ]
  },
  {
   "cell_type": "code",
   "execution_count": 74,
   "id": "d682452d-e56e-4de8-a420-4418d63790a7",
   "metadata": {},
   "outputs": [],
   "source": [
    "# Write your name here (e.g. \"Edmond Dantès\") so I can grade your work\n",
    "your_name = \"Joakim Fellbom\"\n",
    "assert your_name"
   ]
  },
  {
   "cell_type": "code",
   "execution_count": 75,
   "id": "5bceb3b7",
   "metadata": {},
   "outputs": [],
   "source": [
    "import os\n",
    "os.environ[\"KMP_DUPLICATE_LIB_OK\"] = \"TRUE\""
   ]
  },
  {
   "cell_type": "code",
   "execution_count": 76,
   "id": "f8538cf7-81e0-481a-8059-be38b611aafb",
   "metadata": {
    "id": "8CcAqNjJ3z0F"
   },
   "outputs": [],
   "source": [
    "%matplotlib inline\n",
    "import math, sys, os, torch, torchvision\n",
    "from torch import nn\n",
    "import numpy as np\n",
    "import matplotlib.pyplot as plt\n",
    "from torchvision import datasets, transforms\n",
    "import torch.nn as nn\n",
    "import torch.nn.functional as F\n"
   ]
  },
  {
   "cell_type": "code",
   "execution_count": 77,
   "id": "c864b86e-6e6b-4d8a-82c8-6822072a676f",
   "metadata": {
    "id": "3Wxb9pdV3z0F"
   },
   "outputs": [
    {
     "name": "stdout",
     "output_type": "stream",
     "text": [
      "Using gpu: False \n"
     ]
    }
   ],
   "source": [
    "device = torch.device(\"cuda:0\" if torch.cuda.is_available() else \"cpu\")\n",
    "print('Using gpu: %s ' % torch.cuda.is_available())"
   ]
  },
  {
   "cell_type": "markdown",
   "id": "aa038da6-b812-4053-9b72-8ff97ceb3b9b",
   "metadata": {
    "id": "1Sjq8zzf3z0G"
   },
   "source": [
    "We will be training many models. Select a number of epochs to train each model. If you are using a slow machine, or if you want to restart training often and have many development iterations, we suggest `NUM_EPOCH = 2`. If you are using a fast machine, or have a GPU available, of if you are confident that you can write accurate code first try, you will get better accuracies by increasing this constant. You could be able to afford up to `NUM_EPOCH = 10`."
   ]
  },
  {
   "cell_type": "code",
   "execution_count": 78,
   "id": "137adce6-13cc-4ccc-aaf3-42230e322a9b",
   "metadata": {
    "id": "L9CF0H4O3z0G"
   },
   "outputs": [],
   "source": [
    "NUM_EPOCH = 2"
   ]
  },
  {
   "cell_type": "markdown",
   "id": "6ce850e9-ef4e-4323-af2d-be6b94e98994",
   "metadata": {
    "id": "65e20f5e"
   },
   "source": [
    "# Part A - Linear, MLP, and CNN\n"
   ]
  },
  {
   "cell_type": "markdown",
   "id": "05aff4bd-8b1d-4531-89d8-64ce4e2b6357",
   "metadata": {
    "id": "KSAiV2ov3z0H"
   },
   "source": [
    "## Handwritten digit recognition dataset\n",
    "\n",
    "We will use the MNIST database (Modified National Institute of Standards and Technology database). It contains tens of thousands of pictures of handwritten digits. This database was compiled in 1994, as part of the effort in the 1990s to standardize automation of sorting devices with human input, for instance sorting mail with handwritten postal codes at the post office. This is now often considered one of the first real successes of neural networks, and the first easy example on which performance of new such algorithms is tested."
   ]
  },
  {
   "cell_type": "markdown",
   "id": "3429898a-0f57-4cdf-9aa6-7b1121ee4e53",
   "metadata": {},
   "source": [
    "Load the dataset (train and test splits) using `torchvision`"
   ]
  },
  {
   "cell_type": "code",
   "execution_count": 79,
   "id": "59e1c523-4b78-492a-b103-2861af8c3d89",
   "metadata": {
    "id": "Zu3hU4dQ3z0H"
   },
   "outputs": [],
   "source": [
    "root_dir = './data/MNIST/'\n",
    "\n",
    "transform = transforms.Compose([\n",
    "    transforms.ToTensor(),\n",
    "    transforms.Normalize((0.1307,), (0.3081,))  # moyenne et écart-type de MNIST\n",
    "])\n",
    "\n",
    "train_dataset = datasets.MNIST(root=root_dir, train=True, download=True, transform=transform)\n",
    "\n",
    "test_dataset = datasets.MNIST(root=root_dir, train=False, download=True, transform=transform)\n",
    "\n",
    "train_loader = torch.utils.data.DataLoader(train_dataset, batch_size=64, shuffle=True)\n",
    "test_loader = torch.utils.data.DataLoader(test_dataset, batch_size=1000, shuffle=False)"
   ]
  },
  {
   "cell_type": "markdown",
   "id": "d77fbaba-b01f-46d0-a1d7-47c59faaf042",
   "metadata": {},
   "source": [
    "How many examples in each split? \n",
    "\n",
    "Plot the first image and label of the training set using `matplotlib`\n",
    "\n",
    "What is the input dimension?"
   ]
  },
  {
   "cell_type": "code",
   "execution_count": 80,
   "id": "083f07f4-e129-4e9b-b26e-a32fd4bdb99d",
   "metadata": {
    "id": "9fgMls5P3z0I",
    "scrolled": true
   },
   "outputs": [
    {
     "name": "stdout",
     "output_type": "stream",
     "text": [
      "Nombre d'exemples dans le training set : 60000\n",
      "Nombre d'exemples dans le test set : 10000\n"
     ]
    },
    {
     "data": {
      "image/png": "[encoded data removed]",
      "text/plain": [
       "<Figure size 640x480 with 1 Axes>"
      ]
     },
     "metadata": {},
     "output_type": "display_data"
    }
   ],
   "source": [
    "transform = transforms.Compose([\n",
    "    transforms.ToTensor(),\n",
    "    transforms.Normalize((0.1307,), (0.3081,))\n",
    "])\n",
    "\n",
    "print(f\"Nombre d'exemples dans le training set : {len(train_dataset)}\")\n",
    "print(f\"Nombre d'exemples dans le test set : {len(test_dataset)}\")\n",
    "\n",
    "image, label = train_dataset[0]\n",
    "plt.imshow(image.squeeze(0), cmap='gray')  # squeeze(0) enlève le canal unique (1, 28, 28) → (28, 28)\n",
    "plt.title(f\"Label: {label}\")\n",
    "plt.axis('off')\n",
    "plt.show()"
   ]
  },
  {
   "cell_type": "code",
   "execution_count": 81,
   "id": "dc2fbd26-b017-435a-822e-ad382eabd8a4",
   "metadata": {},
   "outputs": [
    {
     "name": "stdout",
     "output_type": "stream",
     "text": [
      "Dimension d'entrée : torch.Size([1, 28, 28])\n"
     ]
    }
   ],
   "source": [
    "print(f\"Dimension d'entrée : {image.shape}\")"
   ]
  },
  {
   "cell_type": "markdown",
   "id": "f6380c03-1427-4dea-974e-5a38621ea6c1",
   "metadata": {
    "id": "Guv5_hY63z0L"
   },
   "source": [
    "# A.1 - Linear features\n",
    "\n",
    "We start with a very simple model, linear with respect to pixel values.\n",
    "Use a `preprocess` function to downsample the image to 7x7 pixels, then flatten it and use a `torch.nn.Linear` model.\n",
    "\n",
    "The torch average-pooling function is `torch.nn.functional.avg_pool2d`, check the documentation to set the arguments properly.\n",
    "DO NOT use your implementation of average-pooling, it would take prohibitively long to train and you would not finish the practical.\n",
    "If the training takes too long, go back to the first section and lower the `NUM_EPOCH` constant."
   ]
  },
  {
   "cell_type": "markdown",
   "id": "f2bb8e5d-7d84-4a59-aa5d-e942ffa22aa8",
   "metadata": {},
   "source": [
    "Again, use matplotlib to visualize an example of downsampling"
   ]
  },
  {
   "cell_type": "code",
   "execution_count": 82,
   "id": "ac111d5c-dfa2-44e2-9a57-f2f4c2caff2d",
   "metadata": {},
   "outputs": [
    {
     "data": {
      "image/png": "[encoded data removed]",
      "text/plain": [
       "<Figure size 800x400 with 2 Axes>"
      ]
     },
     "metadata": {},
     "output_type": "display_data"
    }
   ],
   "source": [
    "import torch\n",
    "import torch.nn as nn\n",
    "import torch.nn.functional as F\n",
    "\n",
    "def preprocess(x):\n",
    "    \"\"\"\n",
    "    Downsample de 28x28 → 7x7 puis flatten.\n",
    "    Entrée x : tensor shape (batch_size, 1, 28, 28)\n",
    "    Sortie : shape (batch_size, 49)\n",
    "    \"\"\"\n",
    "    x = F.avg_pool2d(x, kernel_size=4)  # 28x28 → 7x7\n",
    "    return x.view(x.size(0), -1)  # flatten → (batch_size, 49)\n",
    "\n",
    "sample_img, label = train_dataset[0]  # tensor de shape (1, 28, 28)\n",
    "downsampled = F.avg_pool2d(sample_img.unsqueeze(0), kernel_size=4).squeeze()  # → (7, 7)\n",
    "\n",
    "plt.figure(figsize=(8, 4))\n",
    "plt.subplot(1, 2, 1)\n",
    "plt.imshow(sample_img.squeeze(), cmap='gray')\n",
    "plt.title(\"Original (28x28)\")\n",
    "plt.axis(\"off\")\n",
    "\n",
    "plt.subplot(1, 2, 2)\n",
    "plt.imshow(downsampled, cmap='gray')\n",
    "plt.title(\"Downsampled (7x7)\")\n",
    "plt.axis(\"off\")\n",
    "\n",
    "plt.show()"
   ]
  },
  {
   "cell_type": "code",
   "execution_count": 83,
   "id": "6aa4adcb-be17-4f0d-ba9f-4da062227230",
   "metadata": {
    "id": "2v3GqEPU3z0L"
   },
   "outputs": [],
   "source": [
    "class LinearModel(nn.Module):\n",
    "    def __init__(self):\n",
    "        super().__init__()\n",
    "        self.linear = nn.Linear(7 * 7, 10)  # 49 → 10 classes\n",
    "\n",
    "    def forward(self, x):\n",
    "        x = preprocess(x)  # downsample & flatten\n",
    "        return self.linear(x)"
   ]
  },
  {
   "cell_type": "code",
   "execution_count": 84,
   "id": "facce438",
   "metadata": {},
   "outputs": [
    {
     "name": "stdout",
     "output_type": "stream",
     "text": [
      "LinearModel(\n",
      "  (linear): Linear(in_features=49, out_features=10, bias=True)\n",
      ")\n"
     ]
    }
   ],
   "source": [
    "model = LinearModel()\n",
    "print(model)"
   ]
  },
  {
   "cell_type": "markdown",
   "id": "e5becae4-e27f-43ed-a1c5-ced8c16f4cac",
   "metadata": {
    "id": "qeWZ7DeNMG20"
   },
   "source": [
    "## A.2 - Loss and optimizer\n",
    "Create a cross entropy loss."
   ]
  },
  {
   "cell_type": "code",
   "execution_count": 85,
   "id": "a85b789e",
   "metadata": {
    "id": "a85b789e"
   },
   "outputs": [],
   "source": [
    "criterion = nn.CrossEntropyLoss()"
   ]
  },
  {
   "cell_type": "markdown",
   "id": "43aec31b-3d2b-4b29-ad85-e88a6e25660a",
   "metadata": {
    "id": "ZCnlsh9iMhx_"
   },
   "source": [
    "## A.3 - Training and testing loops\n",
    "Finally, create the functions `train(model, epoch, preprocess, optimizer)` and `test(model)` to train (one epoch with SGD and a learning rate of $10^{-3}$) and test your model."
   ]
  },
  {
   "cell_type": "code",
   "execution_count": 86,
   "id": "521e5485-b676-4f73-bedc-d35c5fcfd394",
   "metadata": {
    "id": "iMXijrch3z0L"
   },
   "outputs": [],
   "source": [
    "def train(model, epoch, preprocess, lr):\n",
    "    model.train()\n",
    "    optimizer = torch.optim.SGD(model.parameters(), lr=lr)\n",
    "\n",
    "    correct = 0\n",
    "    total = 0\n",
    "\n",
    "    for batch_idx, (data, target) in enumerate(train_loader):\n",
    "        optimizer.zero_grad()\n",
    "        output = model(data)  # forward\n",
    "        loss = criterion(output, target)  # loss\n",
    "        loss.backward()  # backward\n",
    "        optimizer.step()  # update weights\n",
    "\n",
    "        # Calcul de la précision\n",
    "        preds = output.argmax(dim=1)\n",
    "        correct += (preds == target).sum().item()\n",
    "        total += target.size(0)\n",
    "\n",
    "    train_accuracy = 100. * correct / total\n",
    "    print(f\"Train Epoch: {epoch} \\tAccuracy: {train_accuracy:.2f}%\")\n",
    "\n",
    "    return optimizer, train_accuracy\n",
    "\n",
    "def test(model, preprocess):\n",
    "    model.eval()\n",
    "    correct = 0\n",
    "    total = 0\n",
    "\n",
    "    with torch.no_grad():\n",
    "        for data, target in test_loader:\n",
    "            output = model(data)\n",
    "            preds = output.argmax(dim=1)\n",
    "            correct += (preds == target).sum().item()\n",
    "            total += target.size(0)\n",
    "\n",
    "    accuracy = 100. * correct / total\n",
    "    print(f\"Test Accuracy: {accuracy:.2f}%\")\n",
    "    return accuracy"
   ]
  },
  {
   "cell_type": "code",
   "execution_count": 90,
   "id": "a3d6afa2",
   "metadata": {},
   "outputs": [],
   "source": [
    "def train_and_test(model, num_epoch, lr):\n",
    "    for epoch in range(1, num_epoch + 1):\n",
    "        optimizer, train_acc = train(model, epoch, preprocess, lr)\n",
    "        test_acc = test(model, preprocess)"
   ]
  },
  {
   "cell_type": "markdown",
   "id": "aa359382-2580-44ae-bcdb-3f18cf1f4c61",
   "metadata": {
    "id": "_t4SiXk33z0L"
   },
   "source": [
    "You should get at least 85\\% test accuracy even with only 2 epochs. We will be aiming for around 95\\% test accuracy and above."
   ]
  },
  {
   "cell_type": "code",
   "execution_count": 88,
   "id": "12892f70",
   "metadata": {},
   "outputs": [
    {
     "name": "stdout",
     "output_type": "stream",
     "text": [
      "\n",
      "=== Testing learning rate: 0.001 ===\n",
      "Train Epoch: 1 \tAccuracy: 32.10%\n",
      "Test Accuracy: 50.45%\n",
      "Train Epoch: 2 \tAccuracy: 55.79%\n",
      "Test Accuracy: 61.71%\n",
      "\n",
      "=== Testing learning rate: 0.01 ===\n",
      "Train Epoch: 1 \tAccuracy: 64.52%\n",
      "Test Accuracy: 80.56%\n",
      "Train Epoch: 2 \tAccuracy: 81.17%\n",
      "Test Accuracy: 83.50%\n",
      "\n",
      "=== Testing learning rate: 0.1 ===\n",
      "Train Epoch: 1 \tAccuracy: 82.35%\n",
      "Test Accuracy: 86.69%\n",
      "Train Epoch: 2 \tAccuracy: 86.22%\n",
      "Test Accuracy: 87.63%\n"
     ]
    }
   ],
   "source": [
    "learning_rates = [1e-3, 1e-2, 1e-1]\n",
    "NUM_EPOCH = 2\n",
    "\n",
    "results = {}\n",
    "\n",
    "for lr in learning_rates:\n",
    "    print(f\"\\n=== Testing learning rate: {lr} ===\")\n",
    "    \n",
    "    model = LinearModel()  # reset model à chaque fois\n",
    "    \n",
    "    train_and_test(model, 2, lr)\n"
   ]
  },
  {
   "cell_type": "markdown",
   "id": "bf28bb4e-7178-4340-9247-f69591e86dcf",
   "metadata": {
    "id": "RrwYAMMBEUPN"
   },
   "source": [
    "## A.4 - Multi-layer perceptron (MLP)\n",
    "\n",
    "Create a class MLP that creates an MLP of given width and depth, and use it to create a 3-layer MLP of width $100$. We will assume that `width > 0` and `depth > 0`."
   ]
  },
  {
   "cell_type": "code",
   "execution_count": null,
   "id": "79cb6479-d475-4f0e-b0f7-fdd107d9e835",
   "metadata": {
    "colab": {
     "base_uri": "https://localhost:8080/"
    },
    "id": "e8353cd9",
    "outputId": "c7f5eeaf-0638-45c3-842e-4372d21ff712"
   },
   "outputs": [],
   "source": [
    "class MLP(nn.Module):\n",
    "    def __init__(self, width, depth):\n",
    "        super().__init__()\n",
    "        layers = []\n",
    "\n",
    "        input_dim = 7 * 7  # après preprocess\n",
    "        output_dim = 10    # nombre de classes MNIST\n",
    "\n",
    "        layers.append(nn.Linear(input_dim, width))\n",
    "        layers.append(nn.ReLU())\n",
    "\n",
    "        for _ in range(depth - 2):\n",
    "            layers.append(nn.Linear(width, width))\n",
    "            layers.append(nn.ReLU())\n",
    "\n",
    "        if depth > 1:\n",
    "            layers.append(nn.Linear(width, output_dim))\n",
    "        else:\n",
    "            layers[0] = nn.Linear(input_dim, output_dim)\n",
    "\n",
    "        self.net = nn.Sequential(*layers)\n",
    "\n",
    "    def forward(self, x):\n",
    "        x = preprocess(x)  # downsample et flatten\n",
    "        return self.net(x)"
   ]
  },
  {
   "cell_type": "code",
   "execution_count": null,
   "id": "10ab304d",
   "metadata": {},
   "outputs": [
    {
     "name": "stdout",
     "output_type": "stream",
     "text": [
      "\n",
      " ========Training MLP with depth=1, width=32=========\n",
      "Train Epoch: 1 \tAccuracy: 78.26%\n",
      "Test Accuracy: 86.69%\n",
      "Train Epoch: 2 \tAccuracy: 86.22%\n",
      "Test Accuracy: 87.69%\n",
      "\n",
      " ========Training MLP with depth=1, width=64=========\n",
      "Train Epoch: 1 \tAccuracy: 66.88%\n",
      "Test Accuracy: 72.85%\n",
      "Train Epoch: 2 \tAccuracy: 73.35%\n",
      "Test Accuracy: 74.78%\n",
      "\n",
      " ========Training MLP with depth=1, width=128=========\n",
      "Train Epoch: 1 \tAccuracy: 60.24%\n",
      "Test Accuracy: 66.28%\n",
      "Train Epoch: 2 \tAccuracy: 65.80%\n",
      "Test Accuracy: 67.53%\n",
      "\n",
      " ========Training MLP with depth=2, width=32=========\n",
      "Train Epoch: 1 \tAccuracy: 82.75%\n",
      "Test Accuracy: 89.43%\n",
      "Train Epoch: 2 \tAccuracy: 89.39%\n",
      "Test Accuracy: 90.84%\n",
      "\n",
      " ========Training MLP with depth=2, width=64=========\n",
      "Train Epoch: 1 \tAccuracy: 83.47%\n",
      "Test Accuracy: 88.90%\n",
      "Train Epoch: 2 \tAccuracy: 89.86%\n",
      "Test Accuracy: 91.75%\n",
      "\n",
      " ========Training MLP with depth=2, width=128=========\n",
      "Train Epoch: 1 \tAccuracy: 84.46%\n",
      "Test Accuracy: 90.16%\n",
      "Train Epoch: 2 \tAccuracy: 90.59%\n",
      "Test Accuracy: 92.37%\n",
      "\n",
      " ========Training MLP with depth=3, width=32=========\n",
      "Train Epoch: 1 \tAccuracy: 79.35%\n",
      "Test Accuracy: 87.82%\n",
      "Train Epoch: 2 \tAccuracy: 90.52%\n",
      "Test Accuracy: 91.72%\n",
      "\n",
      " ========Training MLP with depth=3, width=64=========\n",
      "Train Epoch: 1 \tAccuracy: 81.18%\n",
      "Test Accuracy: 89.90%\n",
      "Train Epoch: 2 \tAccuracy: 91.46%\n",
      "Test Accuracy: 93.18%\n",
      "\n",
      " ========Training MLP with depth=3, width=128=========\n",
      "Train Epoch: 1 \tAccuracy: 82.19%\n",
      "Test Accuracy: 91.11%\n",
      "Train Epoch: 2 \tAccuracy: 91.99%\n",
      "Test Accuracy: 93.61%\n",
      "\n",
      " ========Training MLP with depth=4, width=32=========\n",
      "Train Epoch: 1 \tAccuracy: 69.47%\n",
      "Test Accuracy: 89.22%\n",
      "Train Epoch: 2 \tAccuracy: 89.98%\n",
      "Test Accuracy: 92.61%\n",
      "\n",
      " ========Training MLP with depth=4, width=64=========\n",
      "Train Epoch: 1 \tAccuracy: 75.88%\n",
      "Test Accuracy: 90.51%\n",
      "Train Epoch: 2 \tAccuracy: 91.77%\n",
      "Test Accuracy: 93.80%\n",
      "\n",
      " ========Training MLP with depth=4, width=128=========\n",
      "Train Epoch: 1 \tAccuracy: 79.13%\n",
      "Test Accuracy: 90.69%\n",
      "Train Epoch: 2 \tAccuracy: 92.39%\n",
      "Test Accuracy: 94.06%\n"
     ]
    }
   ],
   "source": [
    "depth_list = [1, 2, 3, 4]\n",
    "width_list = [32, 64, 128]\n",
    "\n",
    "results = {}\n",
    "\n",
    "for depth in depth_list:\n",
    "    for width in width_list:\n",
    "        print(f\"\\n ========Training MLP with depth={depth}, width={width}=========\")\n",
    "        \n",
    "        model = MLP(width=width, depth=depth)\n",
    "\n",
    "        train_and_test(model, 2, lr=0.1)\n"
   ]
  },
  {
   "cell_type": "markdown",
   "id": "76ca5a11-93e4-47ab-81f1-e4ee3cae45c9",
   "metadata": {
    "id": "v1czyC9R3z0R"
   },
   "source": [
    "# A.5 - Deep convolutional model\n",
    "\n",
    "Write a convolutional model, with learned features.\n",
    "Use two layers, one convolutional with 8 filters of size 3x3, then take a relu and max-pool with kernel size 2, and finally flatten and add a Linear layer. You can use the identity as pre-processing function."
   ]
  },
  {
   "cell_type": "markdown",
   "id": "4933e318-5521-4bf8-b011-bdb95ed0d8b0",
   "metadata": {},
   "source": [
    "\n",
    "Here is a little animation to remind you of the sliding window principle of convolutions.\n",
    "\n",
    "![conv](https://github.com//vdumoulin/conv_arithmetic/raw/master/gif/no_padding_no_strides.gif)"
   ]
  },
  {
   "cell_type": "code",
   "execution_count": null,
   "id": "44c87b30-36d7-4567-b009-a41413afac5b",
   "metadata": {
    "id": "l4QOi_oe3z0R"
   },
   "outputs": [],
   "source": [
    "class ConvModel(torch.nn.Module):\n",
    "    def __init__(self):\n",
    "        super(ConvModel, self).__init__()\n",
    "        \n",
    "        self.conv = nn.Conv2d(in_channels=1, out_channels=8, kernel_size=3)  # (28x28 → 26x26)\n",
    "        self.pool = nn.MaxPool2d(kernel_size=2)  # (26x26 → 13x13)\n",
    "        self.relu = nn.ReLU()\n",
    "        \n",
    "        self.fc = nn.Linear(8 * 13 * 13, 10)\n",
    "\n",
    "    def forward(self, x):\n",
    "        x = self.conv(x)       # (batch, 8, 26, 26)\n",
    "        x = self.relu(x)\n",
    "        x = self.pool(x)       # (batch, 8, 13, 13)\n",
    "        x = x.view(x.size(0), -1)  # flatten\n",
    "        x = self.fc(x)         # (batch, 10)\n",
    "        return x"
   ]
  },
  {
   "cell_type": "code",
   "execution_count": 91,
   "id": "54fac087",
   "metadata": {},
   "outputs": [
    {
     "name": "stdout",
     "output_type": "stream",
     "text": [
      "Train Epoch: 1 \tAccuracy: 93.50%\n",
      "Test Accuracy: 96.71%\n",
      "Train Epoch: 2 \tAccuracy: 97.33%\n",
      "Test Accuracy: 97.75%\n",
      "Train Epoch: 3 \tAccuracy: 97.87%\n",
      "Test Accuracy: 97.46%\n",
      "Train Epoch: 4 \tAccuracy: 98.19%\n",
      "Test Accuracy: 98.17%\n",
      "Train Epoch: 5 \tAccuracy: 98.42%\n",
      "Test Accuracy: 98.17%\n"
     ]
    }
   ],
   "source": [
    "model = ConvModel()\n",
    "\n",
    "def preprocess(x):\n",
    "    return x\n",
    "\n",
    "train_and_test(model, num_epoch=5, lr=0.1)"
   ]
  },
  {
   "cell_type": "markdown",
   "id": "a0313eed-03ad-461d-9ddb-bb690c631149",
   "metadata": {
    "id": "pbQ1LUqf3z0R"
   },
   "source": [
    "You should be able to get around 97\\% to 98\\% accuracy with this model. Try increasing the NUM_EPOCH constant and watch what happens to test accuracy and train accuracy as training progresses further.\n",
    "\n",
    "Write a deeper convolutional model, with one convolutional layer as previously, but three linear layers with relu activations after that.\n",
    "Use `h = 100` hidden neurons. How does the test accuracy compare with the previous two-layer network ?"
   ]
  },
  {
   "cell_type": "code",
   "execution_count": 92,
   "id": "792791e1-0514-4749-a3fb-d27eb10a1bd2",
   "metadata": {
    "id": "YM-OhC123z0R"
   },
   "outputs": [],
   "source": [
    "class ConvDeepModel(torch.nn.Module):\n",
    "    def __init__(self, h=100):\n",
    "        super(ConvDeepModel, self).__init__()\n",
    "\n",
    "        # Convolution : (28x28 → 26x26) puis MaxPool → (13x13)\n",
    "        self.conv = nn.Conv2d(in_channels=1, out_channels=8, kernel_size=3)\n",
    "        self.pool = nn.MaxPool2d(kernel_size=2)\n",
    "        self.relu = nn.ReLU()\n",
    "\n",
    "        # Taille de l'entrée pour les couches linéaires : 8 * 13 * 13\n",
    "        flattened_dim = 8 * 13 * 13\n",
    "\n",
    "        # Trois couches fully connected avec ReLU\n",
    "        self.fc1 = nn.Linear(flattened_dim, h)\n",
    "        self.fc2 = nn.Linear(h, h)\n",
    "        self.fc3 = nn.Linear(h, 10)\n",
    "\n",
    "    def forward(self, x):\n",
    "        x = self.pool(self.relu(self.conv(x)))      # (batch, 8, 13, 13)\n",
    "        x = x.view(x.size(0), -1)                   # flatten\n",
    "\n",
    "        x = self.relu(self.fc1(x))                  # (batch, h)\n",
    "        x = self.relu(self.fc2(x))                  # (batch, h)\n",
    "        x = self.fc3(x)                             # (batch, 10)\n",
    "\n",
    "        return x"
   ]
  },
  {
   "cell_type": "code",
   "execution_count": 93,
   "id": "3dd31824",
   "metadata": {},
   "outputs": [
    {
     "name": "stdout",
     "output_type": "stream",
     "text": [
      "Train Epoch: 1 \tAccuracy: 91.05%\n",
      "Test Accuracy: 96.32%\n",
      "Train Epoch: 2 \tAccuracy: 97.43%\n",
      "Test Accuracy: 97.60%\n",
      "Train Epoch: 3 \tAccuracy: 98.27%\n",
      "Test Accuracy: 98.20%\n",
      "Train Epoch: 4 \tAccuracy: 98.71%\n",
      "Test Accuracy: 98.34%\n",
      "Train Epoch: 5 \tAccuracy: 99.08%\n",
      "Test Accuracy: 98.42%\n"
     ]
    }
   ],
   "source": [
    "model = ConvDeepModel()\n",
    "\n",
    "def preprocess(x):\n",
    "    return x\n",
    "\n",
    "train_and_test(model, num_epoch=5, lr=0.1)"
   ]
  },
  {
   "cell_type": "markdown",
   "id": "46fd763b-b36a-461c-ad34-f472e62ce46d",
   "metadata": {},
   "source": [
    "## A.6 Visualisations of convolutions\n",
    "\n",
    "After training your model, let's see what features it has learned!\n",
    "\n",
    "Plot an image from the test set then plot all 8 feature maps extracted by the convolutional layer"
   ]
  },
  {
   "cell_type": "code",
   "execution_count": 94,
   "id": "0e5284c2-4210-4ccc-bf05-5e722bdabf63",
   "metadata": {},
   "outputs": [
    {
     "data": {
      "image/png": "[encoded data removed]",
      "text/plain": [
       "<Figure size 300x300 with 1 Axes>"
      ]
     },
     "metadata": {},
     "output_type": "display_data"
    },
    {
     "data": {
      "image/png": "[encoded data removed]",
      "text/plain": [
       "<Figure size 1000x500 with 8 Axes>"
      ]
     },
     "metadata": {},
     "output_type": "display_data"
    }
   ],
   "source": [
    "model = ConvDeepModel()\n",
    "model.eval()\n",
    "\n",
    "img, label = test_dataset[0]  # shape: (1, 28, 28)\n",
    "img_input = img.unsqueeze(0)  # ajouter batch dim → (1, 1, 28, 28)\n",
    "\n",
    "with torch.no_grad():\n",
    "    conv_output = model.conv(img_input)           # shape: (1, 8, 26, 26)\n",
    "    feature_maps = model.relu(conv_output).squeeze(0)  # remove batch dim → (8, 26, 26)\n",
    "\n",
    "plt.figure(figsize=(3, 3))\n",
    "plt.imshow(img.squeeze(), cmap='gray')\n",
    "plt.title(f\"Original image (label: {label})\")\n",
    "plt.axis('off')\n",
    "plt.show()\n",
    "\n",
    "plt.figure(figsize=(10, 5))\n",
    "for i in range(8):\n",
    "    plt.subplot(2, 4, i + 1)\n",
    "    plt.imshow(feature_maps[i], cmap='gray')\n",
    "    plt.title(f\"Feature map {i}\")\n",
    "    plt.axis('off')\n",
    "\n",
    "plt.suptitle(\"Feature maps from first conv layer\")\n",
    "plt.tight_layout()\n",
    "plt.show()"
   ]
  },
  {
   "cell_type": "markdown",
   "id": "dc457ad1-3240-4ffb-a8f3-98c6554dfce5",
   "metadata": {
    "id": "riu_K1at3z0R"
   },
   "source": [
    "# Part B - Residual models\n",
    "\n",
    "## B.1 - Residual blocks\n",
    "\n",
    "Write a residual block with two linear layers to learn a function $\\mathbb{R}^d \\to \\mathbb{R}^d$ with $h < d$ hidden neurons.\n",
    "Write a convolutional residual block with the same idea. What hyperparameter acts as the number of hidden neurons in convolutional blocks ?  \n",
    "--> channels"
   ]
  },
  {
   "cell_type": "code",
   "execution_count": 95,
   "id": "aec298d4-4372-4a1f-be53-a278d051c0f6",
   "metadata": {
    "id": "gkCILVwd3z0R"
   },
   "outputs": [],
   "source": [
    "class ResidualBlock(torch.nn.Module):\n",
    "    def __init__(self, d, h):\n",
    "        super(ResidualBlock, self).__init__()\n",
    "        self.linear1 = nn.Linear(d, h)\n",
    "        self.relu = nn.ReLU()\n",
    "        self.linear2 = nn.Linear(h, d)\n",
    "\n",
    "    def forward(self, x):\n",
    "        out = self.linear1(x)\n",
    "        out = self.relu(out)\n",
    "        out = self.linear2(out)\n",
    "        return x + out"
   ]
  },
  {
   "cell_type": "code",
   "execution_count": 96,
   "id": "763be8d5",
   "metadata": {},
   "outputs": [],
   "source": [
    "class ConvResidualBlock(torch.nn.Module):\n",
    "    def __init__(self, channels):\n",
    "        super(ConvResidualBlock, self).__init__()\n",
    "        self.conv1 = nn.Conv2d(channels, channels, kernel_size=3, padding=1)\n",
    "        self.relu = nn.ReLU()\n",
    "        self.conv2 = nn.Conv2d(channels, channels, kernel_size=3, padding=1)\n",
    "\n",
    "    def forward(self, x):\n",
    "        out = self.conv1(x)\n",
    "        out = self.relu(out)\n",
    "        out = self.conv2(out)\n",
    "        return x + out"
   ]
  },
  {
   "cell_type": "markdown",
   "id": "8cc0097d-269c-40f4-b182-bdc79bd5c512",
   "metadata": {
    "id": "huKWOvVc3z0S"
   },
   "source": [
    "## B.2 - Stacking residual blocks\n",
    "\n",
    "Use a single convolution layer, followed by a relu and max-pool, then an arbitrary number of residual blocks as defined above, and finish with a linear layer.   \n",
    "  \n",
    "\n",
    "Can you match the accuracy of the two-layer network ?\n",
    "    Oui en modifiant l, h et k\n",
    "      \n",
    " Can you exceed it ?  Oui avec l=3, h=70 et k=2 \n",
    "   \n",
    "  What happens when you increase the number of layers ? Pas forcément bcp de changements entre 2 et 3. Quand on augmente + l'accuracy augmente légèrement.\n",
    "     \n",
    "   Look at the details of the ResNet architecture on the lecture's slides to get an idea of how to increase the number of hidden neurons and the number of layers. One of the strengths of ResNets was there relatively low number of parameters compared\n",
    "to a multi-layer architecture like that of the previous section, does this show in your experiments ?  \n",
    "Oui, on en a bcp moins que pour le ConvDeepModel"
   ]
  },
  {
   "cell_type": "code",
   "execution_count": 97,
   "id": "bf0d4de4-11e8-490c-8262-064b3e841fa5",
   "metadata": {
    "id": "U4gg9uWg3z0S"
   },
   "outputs": [],
   "source": [
    "class ResidualModel(torch.nn.Module):\n",
    "    def __init__(self, l, h, k=3, out=8):\n",
    "        super(ResidualModel, self).__init__()\n",
    "\n",
    "        self.conv = nn.Conv2d(in_channels=1, out_channels=out, kernel_size=k, padding=k // 2)\n",
    "        self.relu = nn.ReLU()\n",
    "        self.pool = nn.MaxPool2d(kernel_size=2)\n",
    "\n",
    "        self.residual_blocks = nn.Sequential(*[\n",
    "            ConvResidualBlock(out) for _ in range(l)\n",
    "        ])\n",
    "\n",
    "        self.flatten_dim = out * 14 * 14\n",
    "        self.fc = nn.Linear(self.flatten_dim, 10)\n",
    "\n",
    "    def forward(self, x):\n",
    "        x = self.conv(x)               # (batch, out, 28, 28)\n",
    "        x = self.relu(x)\n",
    "        x = self.pool(x)               # (batch, out, 14, 14)\n",
    "        x = self.residual_blocks(x)   # résiduels\n",
    "        x = x.view(x.size(0), -1)     # flatten\n",
    "        x = self.fc(x)                # classification\n",
    "        return x"
   ]
  },
  {
   "cell_type": "code",
   "execution_count": 100,
   "id": "2ecbeee5",
   "metadata": {},
   "outputs": [
    {
     "name": "stdout",
     "output_type": "stream",
     "text": [
      "\n",
      " ========Training ResidualModel with l=2, h=70 and k=2=========\n",
      "Train Epoch: 1 \tAccuracy: 95.37%\n",
      "Test Accuracy: 98.03%\n",
      "Train Epoch: 2 \tAccuracy: 98.13%\n",
      "Test Accuracy: 98.40%\n",
      "Train Epoch: 3 \tAccuracy: 98.44%\n",
      "Test Accuracy: 98.58%\n",
      "Train Epoch: 4 \tAccuracy: 98.75%\n",
      "Test Accuracy: 98.54%\n",
      "Train Epoch: 5 \tAccuracy: 98.93%\n",
      "Test Accuracy: 98.39%\n",
      "\n",
      " ========Training ResidualModel with l=2, h=70 and k=3=========\n",
      "Train Epoch: 1 \tAccuracy: 95.52%\n",
      "Test Accuracy: 97.10%\n",
      "Train Epoch: 2 \tAccuracy: 98.20%\n",
      "Test Accuracy: 98.43%\n",
      "Train Epoch: 3 \tAccuracy: 98.70%\n",
      "Test Accuracy: 98.41%\n",
      "Train Epoch: 4 \tAccuracy: 98.83%\n",
      "Test Accuracy: 98.53%\n",
      "Train Epoch: 5 \tAccuracy: 98.99%\n",
      "Test Accuracy: 98.82%\n",
      "\n",
      " ========Training ResidualModel with l=2, h=100 and k=2=========\n",
      "Train Epoch: 1 \tAccuracy: 9.86%\n",
      "Test Accuracy: 9.80%\n",
      "Train Epoch: 2 \tAccuracy: 9.87%\n",
      "Test Accuracy: 9.80%\n",
      "Train Epoch: 3 \tAccuracy: 9.87%\n",
      "Test Accuracy: 9.80%\n",
      "Train Epoch: 4 \tAccuracy: 9.87%\n",
      "Test Accuracy: 9.80%\n",
      "Train Epoch: 5 \tAccuracy: 9.87%\n",
      "Test Accuracy: 9.80%\n",
      "\n",
      " ========Training ResidualModel with l=2, h=100 and k=3=========\n",
      "Train Epoch: 1 \tAccuracy: 9.88%\n",
      "Test Accuracy: 9.80%\n",
      "Train Epoch: 2 \tAccuracy: 9.87%\n",
      "Test Accuracy: 9.80%\n",
      "Train Epoch: 3 \tAccuracy: 9.87%\n",
      "Test Accuracy: 9.80%\n",
      "Train Epoch: 4 \tAccuracy: 9.87%\n",
      "Test Accuracy: 9.80%\n",
      "Train Epoch: 5 \tAccuracy: 9.87%\n",
      "Test Accuracy: 9.80%\n",
      "\n",
      " ========Training ResidualModel with l=3, h=70 and k=2=========\n",
      "Train Epoch: 1 \tAccuracy: 95.33%\n",
      "Test Accuracy: 97.51%\n",
      "Train Epoch: 2 \tAccuracy: 98.16%\n",
      "Test Accuracy: 98.28%\n",
      "Train Epoch: 3 \tAccuracy: 98.54%\n",
      "Test Accuracy: 98.40%\n",
      "Train Epoch: 4 \tAccuracy: 98.86%\n",
      "Test Accuracy: 94.50%\n",
      "Train Epoch: 5 \tAccuracy: 98.93%\n",
      "Test Accuracy: 98.95%\n",
      "\n",
      " ========Training ResidualModel with l=3, h=70 and k=3=========\n",
      "Train Epoch: 1 \tAccuracy: 95.73%\n",
      "Test Accuracy: 98.46%\n",
      "Train Epoch: 2 \tAccuracy: 98.31%\n",
      "Test Accuracy: 98.48%\n",
      "Train Epoch: 3 \tAccuracy: 98.72%\n",
      "Test Accuracy: 98.91%\n",
      "Train Epoch: 4 \tAccuracy: 98.91%\n",
      "Test Accuracy: 98.58%\n",
      "Train Epoch: 5 \tAccuracy: 99.05%\n",
      "Test Accuracy: 98.61%\n",
      "\n",
      " ========Training ResidualModel with l=3, h=100 and k=2=========\n",
      "Train Epoch: 1 \tAccuracy: 10.01%\n",
      "Test Accuracy: 9.80%\n",
      "Train Epoch: 2 \tAccuracy: 9.87%\n",
      "Test Accuracy: 9.80%\n",
      "Train Epoch: 3 \tAccuracy: 9.87%\n",
      "Test Accuracy: 9.80%\n",
      "Train Epoch: 4 \tAccuracy: 9.87%\n",
      "Test Accuracy: 9.80%\n",
      "Train Epoch: 5 \tAccuracy: 9.87%\n",
      "Test Accuracy: 9.80%\n",
      "\n",
      " ========Training ResidualModel with l=3, h=100 and k=3=========\n",
      "Train Epoch: 1 \tAccuracy: 95.73%\n",
      "Test Accuracy: 97.92%\n",
      "Train Epoch: 2 \tAccuracy: 98.29%\n",
      "Test Accuracy: 98.63%\n",
      "Train Epoch: 3 \tAccuracy: 98.67%\n",
      "Test Accuracy: 98.84%\n",
      "Train Epoch: 4 \tAccuracy: 98.90%\n",
      "Test Accuracy: 98.78%\n",
      "Train Epoch: 5 \tAccuracy: 99.08%\n",
      "Test Accuracy: 98.67%\n"
     ]
    }
   ],
   "source": [
    "l_list = [2, 3]\n",
    "h_list = [70, 100]\n",
    "k_list = [2, 3]\n",
    "\n",
    "for l in l_list:\n",
    "    for h in h_list:\n",
    "        for k in k_list:\n",
    "            print(f\"\\n ========Training ResidualModel with l={l}, h={h} and k={k}=========\")\n",
    "            model = ResidualModel(l=l, h=h, k=k, out=8)\n",
    "            def preprocess(x):\n",
    "                return x\n",
    "            train_and_test(model, num_epoch=5, lr=0.1)"
   ]
  },
  {
   "cell_type": "code",
   "execution_count": 113,
   "id": "f194fdd5",
   "metadata": {},
   "outputs": [
    {
     "name": "stdout",
     "output_type": "stream",
     "text": [
      "Nombre de paramètres ResidualModel : 19,274\n",
      "Nombre de paramètres ConvDeep: 146,490\n",
      "Nombre de paramètres Conv: 13,610\n"
     ]
    }
   ],
   "source": [
    "def count_params(model):\n",
    "    return sum(p.numel() for p in model.parameters() if p.requires_grad)\n",
    "\n",
    "model = ResidualModel(l=3, h=100, out=8)\n",
    "print(f\"Nombre de paramètres ResidualModel : {count_params(model):,}\")\n",
    "\n",
    "model = ConvDeepModel()\n",
    "print(f\"Nombre de paramètres ConvDeep: {count_params(model):,}\")\n",
    "\n",
    "model = ConvModel()\n",
    "print(f\"Nombre de paramètres Conv: {count_params(model):,}\")\n"
   ]
  },
  {
   "cell_type": "markdown",
   "id": "df418703-b1e1-4276-8ba7-dd5622c7b7cd",
   "metadata": {
    "id": "2nes_ZtBoBu0"
   },
   "source": [
    "# Part C - Reimplementing loss functions\n",
    "\n",
    "## C.0 - Combining losses\n",
    "First, we recall that, for a batch of score vectors $s\\in\\mathbb{R}^{n\\times C}$ and true labels $y\\in[1,C]^n$, **cross entropy** is defined as\n",
    "$$CE(s, y) = -\\frac{1}{n}\\sum_{i=1}^n \\log\\left( \\mbox{softmax}(s_i)_{y_i} \\right)$$\n",
    "\n",
    "where $\\mbox{softmax}(x)_i = \\frac{e^{x_i}}{\\sum_{j=1}^n e^{x_j}}$ is the probability associated to class $i\\in[1,C]$ for a score vector $x\\in\\mathbb{R}^C$.\n",
    "\n",
    "Let's try to compute cross-entropy in three different ways (see the [documentation](https://pytorch.org/docs/stable/generated/torch.nn.CrossEntropyLoss.html)):\n",
    "1. Using `nn.CrossEntropyLoss()`.\n",
    "2. Using `nn.NLLLoss()` and `nn.LogSoftmax()`.\n",
    "3. Using `nn.NLLLoss()` and `nn.Softmax()`.\n",
    "\n",
    "Check that the output is the same for all three methods on Gaussian random scores `torch.randn(n_batch, n_classes)` and random labels `torch.randint(0, n_classes, [n_batch])`, where `n_batch=4` and `n_classes=10`. Note that the scores are real valued vectors while the labels are integers corresponding to the true class."
   ]
  },
  {
   "cell_type": "code",
   "execution_count": 108,
   "id": "e1b6c172",
   "metadata": {
    "id": "e1b6c172"
   },
   "outputs": [
    {
     "name": "stdout",
     "output_type": "stream",
     "text": [
      "Scores:\n",
      "tensor([[-1.0049,  0.2004, -0.2511, -0.1070,  0.2531, -0.1126,  0.3514, -1.1286,\n",
      "         -0.8703,  0.9248],\n",
      "        [-1.6094,  1.0251,  0.9441, -0.2553,  0.5913, -0.2984, -0.0419, -1.0783,\n",
      "          0.0976,  1.9859],\n",
      "        [-0.3782, -0.6328, -0.6840,  0.2202, -0.6836,  0.4297, -0.2997, -0.9342,\n",
      "         -0.1376,  0.0983],\n",
      "        [-2.9209, -1.6841,  0.6005, -0.8403, -0.7941, -1.4204,  0.3818, -1.6791,\n",
      "          0.6577,  1.5894]])\n",
      "Labels:\n",
      "tensor([1, 6, 5, 6])\n",
      "\n",
      "[1] CrossEntropyLoss       : 2.204510\n",
      "[2] LogSoftmax + NLLLoss   : 2.204510\n",
      "[3] Softmax + NLLLoss      : -0.1217777281999588\n"
     ]
    }
   ],
   "source": [
    "n_batch = 4\n",
    "n_classes = 10\n",
    "\n",
    "scores = torch.randn(n_batch, n_classes)\n",
    "labels = torch.randint(0, n_classes, (n_batch,))\n",
    "\n",
    "print(f\"Scores:\\n{scores}\")\n",
    "print(f\"Labels:\\n{labels}\")\n",
    "\n",
    "ce_loss = nn.CrossEntropyLoss()\n",
    "loss1 = ce_loss(scores, labels)\n",
    "\n",
    "log_softmax = nn.LogSoftmax(dim=1)\n",
    "nll_loss = nn.NLLLoss()\n",
    "log_probs = log_softmax(scores)\n",
    "loss2 = nll_loss(log_probs, labels)\n",
    "\n",
    "softmax = nn.Softmax(dim=1)\n",
    "probs = softmax(scores)\n",
    "try:\n",
    "    loss3 = nll_loss(probs, labels)\n",
    "except Exception as e:\n",
    "    loss3 = f\"Erreur : {e}\"\n",
    "\n",
    "print(f\"\\n[1] CrossEntropyLoss       : {loss1.item():.6f}\")\n",
    "print(f\"[2] LogSoftmax + NLLLoss   : {loss2.item():.6f}\")\n",
    "print(f\"[3] Softmax + NLLLoss      : {loss3}\")"
   ]
  },
  {
   "cell_type": "markdown",
   "id": "bba900c6-f7b2-4179-a2f1-f1eede4b6697",
   "metadata": {
    "id": "TWKaTBVd5ftN"
   },
   "source": [
    "## C.1 - Re-implementation\n",
    "Now re-implement cross-entropy using base functions (`torch.log`, `torch.exp`, `torch.sum`, etc...). Verify that your function returns the same value as Pytorch's implementation."
   ]
  },
  {
   "cell_type": "code",
   "execution_count": 102,
   "id": "EfA-3-E7qwgF",
   "metadata": {
    "id": "EfA-3-E7qwgF"
   },
   "outputs": [],
   "source": [
    "def ce(logits, targets):\n",
    "    # logits: shape (batch_size, n_classes)\n",
    "    # targets: shape (batch_size,) avec valeurs entre 0 et n_classes - 1\n",
    "\n",
    "    logsumexp = torch.log(torch.sum(torch.exp(logits), dim=1))  # (batch_size,)\n",
    "\n",
    "    batch_indices = torch.arange(logits.size(0))\n",
    "    true_class_logits = logits[batch_indices, targets]  # (batch_size,)\n",
    "\n",
    "    losses = -true_class_logits + logsumexp\n",
    "    return losses.mean()"
   ]
  },
  {
   "cell_type": "code",
   "execution_count": 104,
   "metadata": {},
   "outputs": [
    {
     "name": "stdout",
     "output_type": "stream",
     "text": [
      "PyTorch CrossEntropyLoss : 1.932788\n",
      "Custom    ce(logits,y)   : 1.932788\n"
     ]
    }
   ],
   "source": [
    "n_batch = 4\n",
    "n_classes = 10\n",
    "logits = torch.randn(n_batch, n_classes)\n",
    "targets = torch.randint(0, n_classes, (n_batch,))\n",
    "\n",
    "loss_pt = nn.CrossEntropyLoss()(logits, targets)\n",
    "\n",
    "loss_manual = ce(logits, targets)\n",
    "\n",
    "print(f\"PyTorch CrossEntropyLoss : {loss_pt.item():.6f}\")\n",
    "print(f\"Custom    ce(logits,y)   : {loss_manual.item():.6f}\")"
   ]
  },
  {
   "cell_type": "markdown",
   "id": "011ec13a-330a-4073-99b9-2eb9dd42d1f8",
   "metadata": {
    "id": "OFG0QfKN7WtO"
   },
   "source": [
    "## C.2 - Stability analysis\n",
    "Softmax probabilities can be relatively unstable due to their use of exponentials. Pytorch implementations thus usually use log probas or logits to avoid overflows or floating point errors. Test all methods (including your own) on Gaussian random scores of standard deviation equal to $100$. Which methods are stable? Why? Is it an issue in practice?"
   ]
  },
  {
   "cell_type": "code",
   "execution_count": 109,
   "id": "741771f5-864d-446a-b654-3b4f5a2598ca",
   "metadata": {},
   "outputs": [
    {
     "name": "stdout",
     "output_type": "stream",
     "text": [
      "Logits (std=100):\n",
      " tensor([[ 6.0813e+01, -3.3314e+02, -2.6696e+02,  1.1221e+02,  1.1799e+02,\n",
      "         -8.1421e+01, -1.3288e+02, -1.0754e+01,  2.7982e+01, -6.6958e+01],\n",
      "        [-2.7046e-01,  1.1397e+01, -1.2965e+02, -6.3132e+01, -4.6029e+01,\n",
      "          4.9205e+01, -1.0815e+02,  7.9963e+00,  5.7095e+01, -1.2825e+02],\n",
      "        [-2.0013e+01, -1.2836e+02,  2.0903e+01, -1.7571e+02,  1.7995e+02,\n",
      "          1.1025e+02,  1.0604e+02,  3.1347e+01,  1.2804e+02,  1.0387e+02],\n",
      "        [-1.0718e+02,  5.9081e+01, -8.0818e+01,  5.5367e+01, -2.1321e+02,\n",
      "         -1.4507e+02, -1.7804e+02,  6.7122e+01,  6.8837e+01,  1.1060e+01]])\n",
      "\n",
      "Résultats sur données extrêmes (std=100) :\n",
      "[1] CrossEntropyLoss       : 69.82825469970703\n",
      "[2] LogSoftmax + NLLLoss   : 69.82825469970703\n",
      "[3] Softmax + NLLLoss      : -0.49923476576805115\n",
      "[4] Custom ce()            : inf\n"
     ]
    }
   ],
   "source": [
    "n_batch = 4\n",
    "n_classes = 10\n",
    "logits_extreme = torch.randn(n_batch, n_classes) * 100\n",
    "targets = torch.randint(0, n_classes, (n_batch,))\n",
    "\n",
    "print(\"Logits (std=100):\\n\", logits_extreme)\n",
    "\n",
    "try:\n",
    "    loss1 = nn.CrossEntropyLoss()(logits_extreme, targets)\n",
    "except Exception as e:\n",
    "    loss1 = f\"Erreur : {e}\"\n",
    "\n",
    "try:\n",
    "    log_softmax = nn.LogSoftmax(dim=1)\n",
    "    nll = nn.NLLLoss()\n",
    "    log_probs = log_softmax(logits_extreme)\n",
    "    loss2 = nll(log_probs, targets)\n",
    "except Exception as e:\n",
    "    loss2 = f\"Erreur : {e}\"\n",
    "\n",
    "try:\n",
    "    probs = nn.Softmax(dim=1)(logits_extreme)\n",
    "    loss3 = nll(probs, targets)\n",
    "except Exception as e:\n",
    "    loss3 = f\"Erreur : {e}\"\n",
    "\n",
    "try:\n",
    "    loss4 = ce(logits_extreme, targets)\n",
    "except Exception as e:\n",
    "    loss4 = f\"Erreur : {e}\"\n",
    "\n",
    "print(\"\\nRésultats sur données extrêmes (std=100) :\")\n",
    "print(f\"[1] CrossEntropyLoss       : {loss1}\")\n",
    "print(f\"[2] LogSoftmax + NLLLoss   : {loss2}\")\n",
    "print(f\"[3] Softmax + NLLLoss      : {loss3}\")\n",
    "print(f\"[4] Custom ce()            : {loss4}\")"
   ]
  },
  {
   "cell_type": "markdown",
   "id": "5ecaaf7c-b21f-4e18-ac53-1a77adbc60bf",
   "metadata": {
    "id": "Y3y4BfwbBIGy"
   },
   "source": [
    "Re-implement a stable version of cross-entropy."
   ]
  },
  {
   "cell_type": "code",
   "execution_count": null,
   "id": "83d00dab-a37e-48da-880f-81f10efdc133",
   "metadata": {},
   "outputs": [],
   "source": [
    "def stable_ce(logits, targets):\n",
    "    max_logits = torch.max(logits, dim=1, keepdim=True)[0]\n",
    "    stabilized = logits - max_logits\n",
    "\n",
    "    logsumexp = torch.log(torch.sum(torch.exp(stabilized), dim=1))\n",
    "    batch_indices = torch.arange(logits.size(0))\n",
    "    true_logits = stabilized[batch_indices, targets]\n",
    "\n",
    "    losses = -true_logits + logsumexp\n",
    "    return losses.mean()"
   ]
  },
  {
   "cell_type": "code",
   "execution_count": 112,
   "id": "dc012f7e",
   "metadata": {},
   "outputs": [
    {
     "name": "stdout",
     "output_type": "stream",
     "text": [
      "[5] Custom ce_stable()     : 69.82825469970703\n"
     ]
    }
   ],
   "source": [
    "loss5 = stable_ce(logits_extreme, targets)\n",
    "print(f\"[5] Custom ce_stable()     : {loss5}\")"
   ]
  }
 ],
 "metadata": {
  "kernelspec": {
   "display_name": "AppStatApp_TP1",
   "language": "python",
   "name": "appstatapp_tp1"
  },
  "language_info": {
   "codemirror_mode": {
    "name": "ipython",
    "version": 3
   },
   "file_extension": ".py",
   "mimetype": "text/x-python",
   "name": "python",
   "nbconvert_exporter": "python",
   "pygments_lexer": "ipython3",
   "version": "3.11.5"
  }
 },
 "nbformat": 4,
 "nbformat_minor": 5
}
